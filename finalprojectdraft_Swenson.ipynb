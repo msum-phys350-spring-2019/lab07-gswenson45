{
 "cells": [
  {
   "cell_type": "markdown",
   "metadata": {},
   "source": [
    "# Asymmetric Quantum Well\n",
    "\n",
    "## Grace Swenson"
   ]
  },
  {
   "cell_type": "markdown",
   "metadata": {},
   "source": [
    "Set up auto-reload of imported functions"
   ]
  },
  {
   "cell_type": "code",
   "execution_count": null,
   "metadata": {},
   "outputs": [],
   "source": [
    "%load_ext autoreload\n",
    "\n",
    "%autoreload 2"
   ]
  },
  {
   "cell_type": "markdown",
   "metadata": {},
   "source": [
    "## Introduction\n",
    "This quantum mechanics problem will be solved as a matrix problem via linear algebra using Anaconda software. Rather than treating this problem as a typical symmetric, square quantum well, it will be treated as an asymmetric well of width L with varying potentials V(x) inside the well. It will be solved in order to find the allowed energies of the particle inside the box (a) and the energy levels of the well (c).\n",
    "\n",
    "This problem resembles Lab 7, which taught us how to calculate the eigenvectors and eigenvalues of matrices. It also resembles Homework 7, which also dealt with eigenvectors and eigenvalues. The majority of this problem is dealing with eigenvectors and eigenvalues after the initial matrix is computed.\n",
    "\n",
    "\n",
    "\n",
    "Note: In pure state of energy E, the spatial portion of the wave function obeys the time-independent Schrodinger equation. \n",
    "\n",
    "(not sure if I should put the equation in here, and if I should--how do I do that? also, do I include the hamiltonian operator?)\n",
    "\n",
    "It will be assumed that the walls of the well are infinitely high, thus the wavefunction is zero outside of the well and goes to zero at x=0 and x=L. This way, the wavefunction can be represented by a Fourier sine series (include this equation?)\n",
    "\n",
    "\n",
    "NOTES FOR ME:\n",
    "\n",
    "For the first part of this problem (a):\n",
    "Note that: the integral from 0 to L of sin(pi*m*x/L) * sin(pi*n*x/L) is L/2 if m equals n and 0 if m does not equal n.\n",
    "\n",
    "Show what the Schrodinger equation implies (in book)\n",
    "\n",
    "Then define matrix H with elements described in the book\n",
    "\n",
    "This will all show that Schrodinger's equation can be written in matrix form--with phi being the eigenvector of the Hamiltonian matrix H and E being the eigenvalue. --> calculating the eigenvalues of this matrix (Es) give the allowed energies of the particle.\n",
    "\n",
    "For part (b):\n",
    "When V(x) = ax/L , evaluate the integral in Hmn analytically to find general expression for the matrix element Hmn\n",
    "\n",
    "Then show that the matrix is real and symmetric (?)\n",
    "\n",
    "Write program to evaluate the expression for Hmn for arbitrary m and n the particle is an electron, L = 5 ampheres, and a=10eV. me = 9.1094e-31   qe = 1.6022e-19C\n",
    "\n",
    "For part (c):\n",
    "Modify the program written to calculate 10x10 array of H up to m,n=10. then calculate the eigenvalues of this matrix and print them (these are the first ten energy levels of the quantum well in eV).\n",
    "\n",
    "For part (d):\n",
    "Modify the program to create a 100x100 matrix instead and again calculate the first 10 eigenvalues\n",
    "Compare the values from part (c) and (d) and make a conclusion about the accuracy of the calculations.\n",
    "\n",
    "For part (e):\n",
    "Modify program to calculate the wave function for the ground state (E0), and the first two excited states (E1 and E2)\n",
    "Plot the probability densities (wavefunction^2) as function of x in each state.\n",
    "Check normalization"
   ]
  },
  {
   "cell_type": "markdown",
   "metadata": {},
   "source": [
    "## Methods\n",
    "The asymmetric quantum well explored in this problem is assumed to have infinitely high walls, thus the wavefunction is zero outside of the well, and goes to zero at x=0 and x=L, which allows the wavefunction to be represented by a Fourier sine series.\n",
    "\n",
    "In part (a), several mathematical steps, including defining matrix Hmn, will be taken to write the Schrodinger equation in matrix form. Thus, the Schrodinger equation (phi) is the eigenvector of the Hamiltonian matrix H, and the allowed energies of the particle E are the eigenvalues. \n",
    "\n",
    "In part (b), V(x) is set to equal ax/L and then the integral in Hmn is evaluated to find a general expression for the matrix elements. A program is written to evaluate the expression, with arbitrary m and n, for an electron particle (mass=9.1094e-31kg and charge=1.6022e-19C). The width is set to L=5ampheres and a=10eV.\n",
    "\n",
    "In part (c), the program is modified to output a 10x10 array of H (up to m,n=10), and the eigenvalues are calculated and printed. These eigenvalues are the first ten energy levels of the quantum well (eV).\n",
    "\n",
    "In part (d), the program is modified again to output a 100x100 matrix, and the first ten eigenvalues are calculated. These values are compared to the ten values from part (c).\n",
    "\n",
    "In part (e), the program is modified once more to calculate the wave funtion at ground state energy (E0), as well as the first two excited states (E1 and E2). The probability densities (wave function squared) are plotted as functions of x, and the normalization is checked.\n",
    "\n",
    "PART A:\n",
    "working on code"
   ]
  },
  {
   "cell_type": "markdown",
   "metadata": {},
   "source": [
    "## Results"
   ]
  },
  {
   "cell_type": "markdown",
   "metadata": {},
   "source": [
    "## Discussion and Conclusions"
   ]
  }
 ],
 "metadata": {
  "kernelspec": {
   "display_name": "Python 3",
   "language": "python",
   "name": "python3"
  },
  "language_info": {
   "codemirror_mode": {
    "name": "ipython",
    "version": 3
   },
   "file_extension": ".py",
   "mimetype": "text/x-python",
   "name": "python",
   "nbconvert_exporter": "python",
   "pygments_lexer": "ipython3",
   "version": "3.7.1"
  }
 },
 "nbformat": 4,
 "nbformat_minor": 2
}
